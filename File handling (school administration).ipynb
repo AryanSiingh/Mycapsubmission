{
 "cells": [
  {
   "cell_type": "code",
   "execution_count": 6,
   "id": "2fe140b1",
   "metadata": {},
   "outputs": [],
   "source": [
    "import csv"
   ]
  },
  {
   "cell_type": "code",
   "execution_count": 10,
   "id": "1eca3d1d",
   "metadata": {},
   "outputs": [
    {
     "name": "stdout",
     "output_type": "stream",
     "text": [
      "['ID', 'STUDENT', 'MARKS']\n",
      "['1', 'Aryan ', '77']\n",
      "['2', 'Tushar', '98']\n",
      "['3', 'Subrat', '87']\n",
      "['4', 'Aditya', '63']\n",
      "['5', 'Gaurav', '75']\n"
     ]
    }
   ],
   "source": [
    "with open(\"./school.csv\", \"r\") as file:\n",
    "          x = csv.reader(file)\n",
    "          for i in x:\n",
    "                print(i)\n",
    "        \n",
    "        \n",
    "       "
   ]
  },
  {
   "cell_type": "code",
   "execution_count": null,
   "id": "7bb93a50",
   "metadata": {},
   "outputs": [],
   "source": []
  }
 ],
 "metadata": {
  "kernelspec": {
   "display_name": "Python 3",
   "language": "python",
   "name": "python3"
  },
  "language_info": {
   "codemirror_mode": {
    "name": "ipython",
    "version": 3
   },
   "file_extension": ".py",
   "mimetype": "text/x-python",
   "name": "python",
   "nbconvert_exporter": "python",
   "pygments_lexer": "ipython3",
   "version": "3.9.4"
  }
 },
 "nbformat": 4,
 "nbformat_minor": 5
}
